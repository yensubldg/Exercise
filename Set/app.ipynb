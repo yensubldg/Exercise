{
 "cells": [
  {
   "cell_type": "code",
   "execution_count": 16,
   "metadata": {},
   "outputs": [
    {
     "data": {
      "text/plain": [
       "True"
      ]
     },
     "execution_count": 16,
     "metadata": {},
     "output_type": "execute_result"
    }
   ],
   "source": [
    "def formatToSet(arr):\n",
    "    resultSet = list(dict.fromkeys(arr))\n",
    "    return resultSet\n",
    "# print(formatToSet([1,1,1,1,3,4,4,2]))\n",
    "\n",
    "def totalOfLength(arr):\n",
    "    setTemp = formatToSet(arr)\n",
    "    return len(setTemp)\n",
    "\n",
    "# totalOfLength([1,1,1,1,3,4,4,2])\n",
    "\n",
    "def compareTwoSet(arrOne, arrTwo):\n",
    "    if arrOne == [] or arrTwo == []:\n",
    "        return False\n",
    "    setTempOne = formatToSet(arrOne)\n",
    "    setTempTwo = formatToSet(arrTwo)\n",
    "    if len(setTempOne) != len(setTempTwo):\n",
    "        return False\n",
    "    setTempOne.sort()\n",
    "    setTempTwo.sort()\n",
    "\n",
    "    return setTempOne == setTempTwo\n",
    "\n",
    "# compareTwoSet([3, 2, 1, 1], [3, 2, 1])"
   ]
  }
 ],
 "metadata": {
  "kernelspec": {
   "display_name": "Python 3.9.12 ('base')",
   "language": "python",
   "name": "python3"
  },
  "language_info": {
   "codemirror_mode": {
    "name": "ipython",
    "version": 3
   },
   "file_extension": ".py",
   "mimetype": "text/x-python",
   "name": "python",
   "nbconvert_exporter": "python",
   "pygments_lexer": "ipython3",
   "version": "3.9.12"
  },
  "orig_nbformat": 4,
  "vscode": {
   "interpreter": {
    "hash": "1cefc2bdcd36d14afd42f946ee5930c750a244a6a1ad34367935e2265eae7d09"
   }
  }
 },
 "nbformat": 4,
 "nbformat_minor": 2
}
